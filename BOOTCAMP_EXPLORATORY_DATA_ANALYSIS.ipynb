{
  "nbformat": 4,
  "nbformat_minor": 0,
  "metadata": {
    "colab": {
      "name": "BOOTCAMP_EXPLORATORY_DATA_ANALYSIS.ipynb",
      "provenance": [],
      "collapsed_sections": [],
      "authorship_tag": "ABX9TyMcaQ3lsT+RatCNncNviW0U",
      "include_colab_link": true
    },
    "kernelspec": {
      "name": "python3",
      "display_name": "Python 3"
    },
    "language_info": {
      "name": "python"
    }
  },
  "cells": [
    {
      "cell_type": "markdown",
      "metadata": {
        "id": "view-in-github",
        "colab_type": "text"
      },
      "source": [
        "<a href=\"https://colab.research.google.com/github/Buhle0000/Git-BasicExercises/blob/master/BOOTCAMP_EXPLORATORY_DATA_ANALYSIS.ipynb\" target=\"_parent\"><img src=\"https://colab.research.google.com/assets/colab-badge.svg\" alt=\"Open In Colab\"/></a>"
      ]
    },
    {
      "cell_type": "markdown",
      "source": [
        "**1. Are there any missing values in the data set? What, if anything should be done about them if there are?**"
      ],
      "metadata": {
        "id": "nR28kwy1paiT"
      }
    },
    {
      "cell_type": "markdown",
      "source": [
        "Yes there is missing value in the data set. We can fill in the missing values with statistical values like an average or mean or replace the missing values with 0. Below is a brief showing of the number of null values per category."
      ],
      "metadata": {
        "id": "RFx1p3jpphyy"
      }
    },
    {
      "cell_type": "code",
      "execution_count": 6,
      "metadata": {
        "colab": {
          "base_uri": "https://localhost:8080/",
          "height": 487
        },
        "id": "HktloTStnj4i",
        "outputId": "09c911ef-4439-42be-fcff-9e81f81c80cc"
      },
      "outputs": [
        {
          "output_type": "execute_result",
          "data": {
            "text/plain": [
              "     Country  Region  Population  Under15  Over60  FertilityRate  \\\n",
              "0      False   False       False    False   False          False   \n",
              "1      False   False       False    False   False          False   \n",
              "2      False   False       False    False   False          False   \n",
              "3      False   False       False    False   False           True   \n",
              "4      False   False       False    False   False          False   \n",
              "..       ...     ...         ...      ...     ...            ...   \n",
              "189    False   False       False    False   False          False   \n",
              "190    False   False       False    False   False          False   \n",
              "191    False   False       False    False   False          False   \n",
              "192    False   False       False    False   False          False   \n",
              "193    False   False       False    False   False          False   \n",
              "\n",
              "     LifeExpectancy  ChildMortality  CellularSubscribers  LiteracyRate    GNI  \\\n",
              "0             False           False                False          True  False   \n",
              "1             False           False                False          True  False   \n",
              "2             False           False                False          True  False   \n",
              "3             False           False                False          True   True   \n",
              "4             False           False                False         False  False   \n",
              "..              ...             ...                  ...           ...    ...   \n",
              "189           False           False                False          True  False   \n",
              "190           False           False                False         False  False   \n",
              "191           False           False                False         False  False   \n",
              "192           False           False                False         False  False   \n",
              "193           False           False                False         False   True   \n",
              "\n",
              "     PrimarySchoolEnrollmentMale  PrimarySchoolEnrollmentFemale  \n",
              "0                           True                           True  \n",
              "1                           True                           True  \n",
              "2                          False                          False  \n",
              "3                          False                          False  \n",
              "4                          False                          False  \n",
              "..                           ...                            ...  \n",
              "189                        False                          False  \n",
              "190                         True                           True  \n",
              "191                        False                          False  \n",
              "192                        False                          False  \n",
              "193                         True                           True  \n",
              "\n",
              "[194 rows x 13 columns]"
            ],
            "text/html": [
              "\n",
              "  <div id=\"df-6c521742-50e0-4712-b4df-a9678d2f88c9\">\n",
              "    <div class=\"colab-df-container\">\n",
              "      <div>\n",
              "<style scoped>\n",
              "    .dataframe tbody tr th:only-of-type {\n",
              "        vertical-align: middle;\n",
              "    }\n",
              "\n",
              "    .dataframe tbody tr th {\n",
              "        vertical-align: top;\n",
              "    }\n",
              "\n",
              "    .dataframe thead th {\n",
              "        text-align: right;\n",
              "    }\n",
              "</style>\n",
              "<table border=\"1\" class=\"dataframe\">\n",
              "  <thead>\n",
              "    <tr style=\"text-align: right;\">\n",
              "      <th></th>\n",
              "      <th>Country</th>\n",
              "      <th>Region</th>\n",
              "      <th>Population</th>\n",
              "      <th>Under15</th>\n",
              "      <th>Over60</th>\n",
              "      <th>FertilityRate</th>\n",
              "      <th>LifeExpectancy</th>\n",
              "      <th>ChildMortality</th>\n",
              "      <th>CellularSubscribers</th>\n",
              "      <th>LiteracyRate</th>\n",
              "      <th>GNI</th>\n",
              "      <th>PrimarySchoolEnrollmentMale</th>\n",
              "      <th>PrimarySchoolEnrollmentFemale</th>\n",
              "    </tr>\n",
              "  </thead>\n",
              "  <tbody>\n",
              "    <tr>\n",
              "      <th>0</th>\n",
              "      <td>False</td>\n",
              "      <td>False</td>\n",
              "      <td>False</td>\n",
              "      <td>False</td>\n",
              "      <td>False</td>\n",
              "      <td>False</td>\n",
              "      <td>False</td>\n",
              "      <td>False</td>\n",
              "      <td>False</td>\n",
              "      <td>True</td>\n",
              "      <td>False</td>\n",
              "      <td>True</td>\n",
              "      <td>True</td>\n",
              "    </tr>\n",
              "    <tr>\n",
              "      <th>1</th>\n",
              "      <td>False</td>\n",
              "      <td>False</td>\n",
              "      <td>False</td>\n",
              "      <td>False</td>\n",
              "      <td>False</td>\n",
              "      <td>False</td>\n",
              "      <td>False</td>\n",
              "      <td>False</td>\n",
              "      <td>False</td>\n",
              "      <td>True</td>\n",
              "      <td>False</td>\n",
              "      <td>True</td>\n",
              "      <td>True</td>\n",
              "    </tr>\n",
              "    <tr>\n",
              "      <th>2</th>\n",
              "      <td>False</td>\n",
              "      <td>False</td>\n",
              "      <td>False</td>\n",
              "      <td>False</td>\n",
              "      <td>False</td>\n",
              "      <td>False</td>\n",
              "      <td>False</td>\n",
              "      <td>False</td>\n",
              "      <td>False</td>\n",
              "      <td>True</td>\n",
              "      <td>False</td>\n",
              "      <td>False</td>\n",
              "      <td>False</td>\n",
              "    </tr>\n",
              "    <tr>\n",
              "      <th>3</th>\n",
              "      <td>False</td>\n",
              "      <td>False</td>\n",
              "      <td>False</td>\n",
              "      <td>False</td>\n",
              "      <td>False</td>\n",
              "      <td>True</td>\n",
              "      <td>False</td>\n",
              "      <td>False</td>\n",
              "      <td>False</td>\n",
              "      <td>True</td>\n",
              "      <td>True</td>\n",
              "      <td>False</td>\n",
              "      <td>False</td>\n",
              "    </tr>\n",
              "    <tr>\n",
              "      <th>4</th>\n",
              "      <td>False</td>\n",
              "      <td>False</td>\n",
              "      <td>False</td>\n",
              "      <td>False</td>\n",
              "      <td>False</td>\n",
              "      <td>False</td>\n",
              "      <td>False</td>\n",
              "      <td>False</td>\n",
              "      <td>False</td>\n",
              "      <td>False</td>\n",
              "      <td>False</td>\n",
              "      <td>False</td>\n",
              "      <td>False</td>\n",
              "    </tr>\n",
              "    <tr>\n",
              "      <th>...</th>\n",
              "      <td>...</td>\n",
              "      <td>...</td>\n",
              "      <td>...</td>\n",
              "      <td>...</td>\n",
              "      <td>...</td>\n",
              "      <td>...</td>\n",
              "      <td>...</td>\n",
              "      <td>...</td>\n",
              "      <td>...</td>\n",
              "      <td>...</td>\n",
              "      <td>...</td>\n",
              "      <td>...</td>\n",
              "      <td>...</td>\n",
              "    </tr>\n",
              "    <tr>\n",
              "      <th>189</th>\n",
              "      <td>False</td>\n",
              "      <td>False</td>\n",
              "      <td>False</td>\n",
              "      <td>False</td>\n",
              "      <td>False</td>\n",
              "      <td>False</td>\n",
              "      <td>False</td>\n",
              "      <td>False</td>\n",
              "      <td>False</td>\n",
              "      <td>True</td>\n",
              "      <td>False</td>\n",
              "      <td>False</td>\n",
              "      <td>False</td>\n",
              "    </tr>\n",
              "    <tr>\n",
              "      <th>190</th>\n",
              "      <td>False</td>\n",
              "      <td>False</td>\n",
              "      <td>False</td>\n",
              "      <td>False</td>\n",
              "      <td>False</td>\n",
              "      <td>False</td>\n",
              "      <td>False</td>\n",
              "      <td>False</td>\n",
              "      <td>False</td>\n",
              "      <td>False</td>\n",
              "      <td>False</td>\n",
              "      <td>True</td>\n",
              "      <td>True</td>\n",
              "    </tr>\n",
              "    <tr>\n",
              "      <th>191</th>\n",
              "      <td>False</td>\n",
              "      <td>False</td>\n",
              "      <td>False</td>\n",
              "      <td>False</td>\n",
              "      <td>False</td>\n",
              "      <td>False</td>\n",
              "      <td>False</td>\n",
              "      <td>False</td>\n",
              "      <td>False</td>\n",
              "      <td>False</td>\n",
              "      <td>False</td>\n",
              "      <td>False</td>\n",
              "      <td>False</td>\n",
              "    </tr>\n",
              "    <tr>\n",
              "      <th>192</th>\n",
              "      <td>False</td>\n",
              "      <td>False</td>\n",
              "      <td>False</td>\n",
              "      <td>False</td>\n",
              "      <td>False</td>\n",
              "      <td>False</td>\n",
              "      <td>False</td>\n",
              "      <td>False</td>\n",
              "      <td>False</td>\n",
              "      <td>False</td>\n",
              "      <td>False</td>\n",
              "      <td>False</td>\n",
              "      <td>False</td>\n",
              "    </tr>\n",
              "    <tr>\n",
              "      <th>193</th>\n",
              "      <td>False</td>\n",
              "      <td>False</td>\n",
              "      <td>False</td>\n",
              "      <td>False</td>\n",
              "      <td>False</td>\n",
              "      <td>False</td>\n",
              "      <td>False</td>\n",
              "      <td>False</td>\n",
              "      <td>False</td>\n",
              "      <td>False</td>\n",
              "      <td>True</td>\n",
              "      <td>True</td>\n",
              "      <td>True</td>\n",
              "    </tr>\n",
              "  </tbody>\n",
              "</table>\n",
              "<p>194 rows × 13 columns</p>\n",
              "</div>\n",
              "      <button class=\"colab-df-convert\" onclick=\"convertToInteractive('df-6c521742-50e0-4712-b4df-a9678d2f88c9')\"\n",
              "              title=\"Convert this dataframe to an interactive table.\"\n",
              "              style=\"display:none;\">\n",
              "        \n",
              "  <svg xmlns=\"http://www.w3.org/2000/svg\" height=\"24px\"viewBox=\"0 0 24 24\"\n",
              "       width=\"24px\">\n",
              "    <path d=\"M0 0h24v24H0V0z\" fill=\"none\"/>\n",
              "    <path d=\"M18.56 5.44l.94 2.06.94-2.06 2.06-.94-2.06-.94-.94-2.06-.94 2.06-2.06.94zm-11 1L8.5 8.5l.94-2.06 2.06-.94-2.06-.94L8.5 2.5l-.94 2.06-2.06.94zm10 10l.94 2.06.94-2.06 2.06-.94-2.06-.94-.94-2.06-.94 2.06-2.06.94z\"/><path d=\"M17.41 7.96l-1.37-1.37c-.4-.4-.92-.59-1.43-.59-.52 0-1.04.2-1.43.59L10.3 9.45l-7.72 7.72c-.78.78-.78 2.05 0 2.83L4 21.41c.39.39.9.59 1.41.59.51 0 1.02-.2 1.41-.59l7.78-7.78 2.81-2.81c.8-.78.8-2.07 0-2.86zM5.41 20L4 18.59l7.72-7.72 1.47 1.35L5.41 20z\"/>\n",
              "  </svg>\n",
              "      </button>\n",
              "      \n",
              "  <style>\n",
              "    .colab-df-container {\n",
              "      display:flex;\n",
              "      flex-wrap:wrap;\n",
              "      gap: 12px;\n",
              "    }\n",
              "\n",
              "    .colab-df-convert {\n",
              "      background-color: #E8F0FE;\n",
              "      border: none;\n",
              "      border-radius: 50%;\n",
              "      cursor: pointer;\n",
              "      display: none;\n",
              "      fill: #1967D2;\n",
              "      height: 32px;\n",
              "      padding: 0 0 0 0;\n",
              "      width: 32px;\n",
              "    }\n",
              "\n",
              "    .colab-df-convert:hover {\n",
              "      background-color: #E2EBFA;\n",
              "      box-shadow: 0px 1px 2px rgba(60, 64, 67, 0.3), 0px 1px 3px 1px rgba(60, 64, 67, 0.15);\n",
              "      fill: #174EA6;\n",
              "    }\n",
              "\n",
              "    [theme=dark] .colab-df-convert {\n",
              "      background-color: #3B4455;\n",
              "      fill: #D2E3FC;\n",
              "    }\n",
              "\n",
              "    [theme=dark] .colab-df-convert:hover {\n",
              "      background-color: #434B5C;\n",
              "      box-shadow: 0px 1px 3px 1px rgba(0, 0, 0, 0.15);\n",
              "      filter: drop-shadow(0px 1px 2px rgba(0, 0, 0, 0.3));\n",
              "      fill: #FFFFFF;\n",
              "    }\n",
              "  </style>\n",
              "\n",
              "      <script>\n",
              "        const buttonEl =\n",
              "          document.querySelector('#df-6c521742-50e0-4712-b4df-a9678d2f88c9 button.colab-df-convert');\n",
              "        buttonEl.style.display =\n",
              "          google.colab.kernel.accessAllowed ? 'block' : 'none';\n",
              "\n",
              "        async function convertToInteractive(key) {\n",
              "          const element = document.querySelector('#df-6c521742-50e0-4712-b4df-a9678d2f88c9');\n",
              "          const dataTable =\n",
              "            await google.colab.kernel.invokeFunction('convertToInteractive',\n",
              "                                                     [key], {});\n",
              "          if (!dataTable) return;\n",
              "\n",
              "          const docLinkHtml = 'Like what you see? Visit the ' +\n",
              "            '<a target=\"_blank\" href=https://colab.research.google.com/notebooks/data_table.ipynb>data table notebook</a>'\n",
              "            + ' to learn more about interactive tables.';\n",
              "          element.innerHTML = '';\n",
              "          dataTable['output_type'] = 'display_data';\n",
              "          await google.colab.output.renderOutput(dataTable, element);\n",
              "          const docLink = document.createElement('div');\n",
              "          docLink.innerHTML = docLinkHtml;\n",
              "          element.appendChild(docLink);\n",
              "        }\n",
              "      </script>\n",
              "    </div>\n",
              "  </div>\n",
              "  "
            ]
          },
          "metadata": {},
          "execution_count": 6
        }
      ],
      "source": [
        "import pandas as pd\n",
        "from matplotlib import pyplot as plt\n",
        "import numpy as np\n",
        "df = pd.read_csv('data.csv')\n",
        "df.isnull()"
      ]
    },
    {
      "cell_type": "markdown",
      "source": [
        "**2. Are there any other problems with the data? If so, fix them.**"
      ],
      "metadata": {
        "id": "qYiwcotjr8pO"
      }
    },
    {
      "cell_type": "markdown",
      "source": [
        "Yes there is other problems with the data. The misssing values "
      ],
      "metadata": {
        "id": "PPzSZzdRqBGJ"
      }
    },
    {
      "cell_type": "code",
      "source": [
        "df2 = df.fillna(value = df.mean())\n",
        "df2"
      ],
      "metadata": {
        "colab": {
          "base_uri": "https://localhost:8080/",
          "height": 627
        },
        "id": "qThAv6TxtYI2",
        "outputId": "422c19f5-a064-476b-a0b5-d7b6a8ab678f"
      },
      "execution_count": 10,
      "outputs": [
        {
          "output_type": "stream",
          "name": "stderr",
          "text": [
            "/usr/local/lib/python3.7/dist-packages/ipykernel_launcher.py:1: FutureWarning: Dropping of nuisance columns in DataFrame reductions (with 'numeric_only=None') is deprecated; in a future version this will raise TypeError.  Select only valid columns before calling the reduction.\n",
            "  \"\"\"Entry point for launching an IPython kernel.\n"
          ]
        },
        {
          "output_type": "execute_result",
          "data": {
            "text/plain": [
              "                                Country                 Region  Population  \\\n",
              "0                           Afghanistan  Eastern Mediterranean       29825   \n",
              "1                               Albania                 Europe        3162   \n",
              "2                               Algeria                 Africa       38482   \n",
              "3                               Andorra                 Europe          78   \n",
              "4                                Angola                 Africa       20821   \n",
              "..                                  ...                    ...         ...   \n",
              "189  Venezuela (Bolivarian Republic of)               Americas       29955   \n",
              "190                            Viet Nam        Western Pacific       90796   \n",
              "191                               Yemen  Eastern Mediterranean       23852   \n",
              "192                              Zambia                 Africa       14075   \n",
              "193                            Zimbabwe                 Africa       13724   \n",
              "\n",
              "     Under15  Over60  FertilityRate  LifeExpectancy  ChildMortality  \\\n",
              "0      47.42    3.82       5.400000              60            98.5   \n",
              "1      21.33   14.93       1.750000              74            16.7   \n",
              "2      27.42    7.17       2.830000              73            20.0   \n",
              "3      15.20   22.86       2.940656              82             3.2   \n",
              "4      47.58    3.84       6.100000              51           163.5   \n",
              "..       ...     ...            ...             ...             ...   \n",
              "189    28.84    9.17       2.440000              75            15.3   \n",
              "190    22.87    9.32       1.790000              75            23.0   \n",
              "191    40.72    4.54       4.350000              64            60.0   \n",
              "192    46.73    3.95       5.770000              55            88.5   \n",
              "193    40.24    5.68       3.640000              54            89.8   \n",
              "\n",
              "     CellularSubscribers  LiteracyRate           GNI  \\\n",
              "0                  54.26      83.71068   1140.000000   \n",
              "1                  96.39      83.71068   8820.000000   \n",
              "2                  98.99      83.71068   8310.000000   \n",
              "3                  75.49      83.71068  13320.925926   \n",
              "4                  48.38      70.10000   5230.000000   \n",
              "..                   ...           ...           ...   \n",
              "189                97.78      83.71068  12430.000000   \n",
              "190               143.39      93.20000   3250.000000   \n",
              "191                47.05      63.90000   2170.000000   \n",
              "192                60.59      71.20000   1490.000000   \n",
              "193                72.13      92.20000  13320.925926   \n",
              "\n",
              "     PrimarySchoolEnrollmentMale  PrimarySchoolEnrollmentFemale  \n",
              "0                      90.850495                      89.632673  \n",
              "1                      90.850495                      89.632673  \n",
              "2                      98.200000                      96.400000  \n",
              "3                      78.400000                      79.400000  \n",
              "4                      93.100000                      78.200000  \n",
              "..                           ...                            ...  \n",
              "189                    94.700000                      95.100000  \n",
              "190                    90.850495                      89.632673  \n",
              "191                    85.500000                      70.500000  \n",
              "192                    91.400000                      93.900000  \n",
              "193                    90.850495                      89.632673  \n",
              "\n",
              "[194 rows x 13 columns]"
            ],
            "text/html": [
              "\n",
              "  <div id=\"df-61cff969-ecea-4494-99e6-512c4036e362\">\n",
              "    <div class=\"colab-df-container\">\n",
              "      <div>\n",
              "<style scoped>\n",
              "    .dataframe tbody tr th:only-of-type {\n",
              "        vertical-align: middle;\n",
              "    }\n",
              "\n",
              "    .dataframe tbody tr th {\n",
              "        vertical-align: top;\n",
              "    }\n",
              "\n",
              "    .dataframe thead th {\n",
              "        text-align: right;\n",
              "    }\n",
              "</style>\n",
              "<table border=\"1\" class=\"dataframe\">\n",
              "  <thead>\n",
              "    <tr style=\"text-align: right;\">\n",
              "      <th></th>\n",
              "      <th>Country</th>\n",
              "      <th>Region</th>\n",
              "      <th>Population</th>\n",
              "      <th>Under15</th>\n",
              "      <th>Over60</th>\n",
              "      <th>FertilityRate</th>\n",
              "      <th>LifeExpectancy</th>\n",
              "      <th>ChildMortality</th>\n",
              "      <th>CellularSubscribers</th>\n",
              "      <th>LiteracyRate</th>\n",
              "      <th>GNI</th>\n",
              "      <th>PrimarySchoolEnrollmentMale</th>\n",
              "      <th>PrimarySchoolEnrollmentFemale</th>\n",
              "    </tr>\n",
              "  </thead>\n",
              "  <tbody>\n",
              "    <tr>\n",
              "      <th>0</th>\n",
              "      <td>Afghanistan</td>\n",
              "      <td>Eastern Mediterranean</td>\n",
              "      <td>29825</td>\n",
              "      <td>47.42</td>\n",
              "      <td>3.82</td>\n",
              "      <td>5.400000</td>\n",
              "      <td>60</td>\n",
              "      <td>98.5</td>\n",
              "      <td>54.26</td>\n",
              "      <td>83.71068</td>\n",
              "      <td>1140.000000</td>\n",
              "      <td>90.850495</td>\n",
              "      <td>89.632673</td>\n",
              "    </tr>\n",
              "    <tr>\n",
              "      <th>1</th>\n",
              "      <td>Albania</td>\n",
              "      <td>Europe</td>\n",
              "      <td>3162</td>\n",
              "      <td>21.33</td>\n",
              "      <td>14.93</td>\n",
              "      <td>1.750000</td>\n",
              "      <td>74</td>\n",
              "      <td>16.7</td>\n",
              "      <td>96.39</td>\n",
              "      <td>83.71068</td>\n",
              "      <td>8820.000000</td>\n",
              "      <td>90.850495</td>\n",
              "      <td>89.632673</td>\n",
              "    </tr>\n",
              "    <tr>\n",
              "      <th>2</th>\n",
              "      <td>Algeria</td>\n",
              "      <td>Africa</td>\n",
              "      <td>38482</td>\n",
              "      <td>27.42</td>\n",
              "      <td>7.17</td>\n",
              "      <td>2.830000</td>\n",
              "      <td>73</td>\n",
              "      <td>20.0</td>\n",
              "      <td>98.99</td>\n",
              "      <td>83.71068</td>\n",
              "      <td>8310.000000</td>\n",
              "      <td>98.200000</td>\n",
              "      <td>96.400000</td>\n",
              "    </tr>\n",
              "    <tr>\n",
              "      <th>3</th>\n",
              "      <td>Andorra</td>\n",
              "      <td>Europe</td>\n",
              "      <td>78</td>\n",
              "      <td>15.20</td>\n",
              "      <td>22.86</td>\n",
              "      <td>2.940656</td>\n",
              "      <td>82</td>\n",
              "      <td>3.2</td>\n",
              "      <td>75.49</td>\n",
              "      <td>83.71068</td>\n",
              "      <td>13320.925926</td>\n",
              "      <td>78.400000</td>\n",
              "      <td>79.400000</td>\n",
              "    </tr>\n",
              "    <tr>\n",
              "      <th>4</th>\n",
              "      <td>Angola</td>\n",
              "      <td>Africa</td>\n",
              "      <td>20821</td>\n",
              "      <td>47.58</td>\n",
              "      <td>3.84</td>\n",
              "      <td>6.100000</td>\n",
              "      <td>51</td>\n",
              "      <td>163.5</td>\n",
              "      <td>48.38</td>\n",
              "      <td>70.10000</td>\n",
              "      <td>5230.000000</td>\n",
              "      <td>93.100000</td>\n",
              "      <td>78.200000</td>\n",
              "    </tr>\n",
              "    <tr>\n",
              "      <th>...</th>\n",
              "      <td>...</td>\n",
              "      <td>...</td>\n",
              "      <td>...</td>\n",
              "      <td>...</td>\n",
              "      <td>...</td>\n",
              "      <td>...</td>\n",
              "      <td>...</td>\n",
              "      <td>...</td>\n",
              "      <td>...</td>\n",
              "      <td>...</td>\n",
              "      <td>...</td>\n",
              "      <td>...</td>\n",
              "      <td>...</td>\n",
              "    </tr>\n",
              "    <tr>\n",
              "      <th>189</th>\n",
              "      <td>Venezuela (Bolivarian Republic of)</td>\n",
              "      <td>Americas</td>\n",
              "      <td>29955</td>\n",
              "      <td>28.84</td>\n",
              "      <td>9.17</td>\n",
              "      <td>2.440000</td>\n",
              "      <td>75</td>\n",
              "      <td>15.3</td>\n",
              "      <td>97.78</td>\n",
              "      <td>83.71068</td>\n",
              "      <td>12430.000000</td>\n",
              "      <td>94.700000</td>\n",
              "      <td>95.100000</td>\n",
              "    </tr>\n",
              "    <tr>\n",
              "      <th>190</th>\n",
              "      <td>Viet Nam</td>\n",
              "      <td>Western Pacific</td>\n",
              "      <td>90796</td>\n",
              "      <td>22.87</td>\n",
              "      <td>9.32</td>\n",
              "      <td>1.790000</td>\n",
              "      <td>75</td>\n",
              "      <td>23.0</td>\n",
              "      <td>143.39</td>\n",
              "      <td>93.20000</td>\n",
              "      <td>3250.000000</td>\n",
              "      <td>90.850495</td>\n",
              "      <td>89.632673</td>\n",
              "    </tr>\n",
              "    <tr>\n",
              "      <th>191</th>\n",
              "      <td>Yemen</td>\n",
              "      <td>Eastern Mediterranean</td>\n",
              "      <td>23852</td>\n",
              "      <td>40.72</td>\n",
              "      <td>4.54</td>\n",
              "      <td>4.350000</td>\n",
              "      <td>64</td>\n",
              "      <td>60.0</td>\n",
              "      <td>47.05</td>\n",
              "      <td>63.90000</td>\n",
              "      <td>2170.000000</td>\n",
              "      <td>85.500000</td>\n",
              "      <td>70.500000</td>\n",
              "    </tr>\n",
              "    <tr>\n",
              "      <th>192</th>\n",
              "      <td>Zambia</td>\n",
              "      <td>Africa</td>\n",
              "      <td>14075</td>\n",
              "      <td>46.73</td>\n",
              "      <td>3.95</td>\n",
              "      <td>5.770000</td>\n",
              "      <td>55</td>\n",
              "      <td>88.5</td>\n",
              "      <td>60.59</td>\n",
              "      <td>71.20000</td>\n",
              "      <td>1490.000000</td>\n",
              "      <td>91.400000</td>\n",
              "      <td>93.900000</td>\n",
              "    </tr>\n",
              "    <tr>\n",
              "      <th>193</th>\n",
              "      <td>Zimbabwe</td>\n",
              "      <td>Africa</td>\n",
              "      <td>13724</td>\n",
              "      <td>40.24</td>\n",
              "      <td>5.68</td>\n",
              "      <td>3.640000</td>\n",
              "      <td>54</td>\n",
              "      <td>89.8</td>\n",
              "      <td>72.13</td>\n",
              "      <td>92.20000</td>\n",
              "      <td>13320.925926</td>\n",
              "      <td>90.850495</td>\n",
              "      <td>89.632673</td>\n",
              "    </tr>\n",
              "  </tbody>\n",
              "</table>\n",
              "<p>194 rows × 13 columns</p>\n",
              "</div>\n",
              "      <button class=\"colab-df-convert\" onclick=\"convertToInteractive('df-61cff969-ecea-4494-99e6-512c4036e362')\"\n",
              "              title=\"Convert this dataframe to an interactive table.\"\n",
              "              style=\"display:none;\">\n",
              "        \n",
              "  <svg xmlns=\"http://www.w3.org/2000/svg\" height=\"24px\"viewBox=\"0 0 24 24\"\n",
              "       width=\"24px\">\n",
              "    <path d=\"M0 0h24v24H0V0z\" fill=\"none\"/>\n",
              "    <path d=\"M18.56 5.44l.94 2.06.94-2.06 2.06-.94-2.06-.94-.94-2.06-.94 2.06-2.06.94zm-11 1L8.5 8.5l.94-2.06 2.06-.94-2.06-.94L8.5 2.5l-.94 2.06-2.06.94zm10 10l.94 2.06.94-2.06 2.06-.94-2.06-.94-.94-2.06-.94 2.06-2.06.94z\"/><path d=\"M17.41 7.96l-1.37-1.37c-.4-.4-.92-.59-1.43-.59-.52 0-1.04.2-1.43.59L10.3 9.45l-7.72 7.72c-.78.78-.78 2.05 0 2.83L4 21.41c.39.39.9.59 1.41.59.51 0 1.02-.2 1.41-.59l7.78-7.78 2.81-2.81c.8-.78.8-2.07 0-2.86zM5.41 20L4 18.59l7.72-7.72 1.47 1.35L5.41 20z\"/>\n",
              "  </svg>\n",
              "      </button>\n",
              "      \n",
              "  <style>\n",
              "    .colab-df-container {\n",
              "      display:flex;\n",
              "      flex-wrap:wrap;\n",
              "      gap: 12px;\n",
              "    }\n",
              "\n",
              "    .colab-df-convert {\n",
              "      background-color: #E8F0FE;\n",
              "      border: none;\n",
              "      border-radius: 50%;\n",
              "      cursor: pointer;\n",
              "      display: none;\n",
              "      fill: #1967D2;\n",
              "      height: 32px;\n",
              "      padding: 0 0 0 0;\n",
              "      width: 32px;\n",
              "    }\n",
              "\n",
              "    .colab-df-convert:hover {\n",
              "      background-color: #E2EBFA;\n",
              "      box-shadow: 0px 1px 2px rgba(60, 64, 67, 0.3), 0px 1px 3px 1px rgba(60, 64, 67, 0.15);\n",
              "      fill: #174EA6;\n",
              "    }\n",
              "\n",
              "    [theme=dark] .colab-df-convert {\n",
              "      background-color: #3B4455;\n",
              "      fill: #D2E3FC;\n",
              "    }\n",
              "\n",
              "    [theme=dark] .colab-df-convert:hover {\n",
              "      background-color: #434B5C;\n",
              "      box-shadow: 0px 1px 3px 1px rgba(0, 0, 0, 0.15);\n",
              "      filter: drop-shadow(0px 1px 2px rgba(0, 0, 0, 0.3));\n",
              "      fill: #FFFFFF;\n",
              "    }\n",
              "  </style>\n",
              "\n",
              "      <script>\n",
              "        const buttonEl =\n",
              "          document.querySelector('#df-61cff969-ecea-4494-99e6-512c4036e362 button.colab-df-convert');\n",
              "        buttonEl.style.display =\n",
              "          google.colab.kernel.accessAllowed ? 'block' : 'none';\n",
              "\n",
              "        async function convertToInteractive(key) {\n",
              "          const element = document.querySelector('#df-61cff969-ecea-4494-99e6-512c4036e362');\n",
              "          const dataTable =\n",
              "            await google.colab.kernel.invokeFunction('convertToInteractive',\n",
              "                                                     [key], {});\n",
              "          if (!dataTable) return;\n",
              "\n",
              "          const docLinkHtml = 'Like what you see? Visit the ' +\n",
              "            '<a target=\"_blank\" href=https://colab.research.google.com/notebooks/data_table.ipynb>data table notebook</a>'\n",
              "            + ' to learn more about interactive tables.';\n",
              "          element.innerHTML = '';\n",
              "          dataTable['output_type'] = 'display_data';\n",
              "          await google.colab.output.renderOutput(dataTable, element);\n",
              "          const docLink = document.createElement('div');\n",
              "          docLink.innerHTML = docLinkHtml;\n",
              "          element.appendChild(docLink);\n",
              "        }\n",
              "      </script>\n",
              "    </div>\n",
              "  </div>\n",
              "  "
            ]
          },
          "metadata": {},
          "execution_count": 10
        }
      ]
    },
    {
      "cell_type": "markdown",
      "source": [
        "**3. Identify the country with the lowest % of their population under 15 and the one with the highest.**"
      ],
      "metadata": {
        "id": "gG9qbh7qqczL"
      }
    },
    {
      "cell_type": "code",
      "source": [
        "lowest_population = df.Under15.min()\n",
        "df[df['Under15'] == lowest_population]\n"
      ],
      "metadata": {
        "colab": {
          "base_uri": "https://localhost:8080/",
          "height": 162
        },
        "id": "VaZlSXjtu2K4",
        "outputId": "6275096d-23dd-4a98-8ed5-8a5ef57e8fb2"
      },
      "execution_count": 14,
      "outputs": [
        {
          "output_type": "execute_result",
          "data": {
            "text/plain": [
              "   Country           Region  Population  Under15  Over60  FertilityRate  \\\n",
              "85   Japan  Western Pacific      127000    13.12   31.92           1.39   \n",
              "\n",
              "    LifeExpectancy  ChildMortality  CellularSubscribers  LiteracyRate  \\\n",
              "85              83             3.0               104.95           NaN   \n",
              "\n",
              "        GNI  PrimarySchoolEnrollmentMale  PrimarySchoolEnrollmentFemale  \n",
              "85  35330.0                          NaN                            NaN  "
            ],
            "text/html": [
              "\n",
              "  <div id=\"df-32dc4a05-c7ca-4953-8ab8-8a4d6af62d63\">\n",
              "    <div class=\"colab-df-container\">\n",
              "      <div>\n",
              "<style scoped>\n",
              "    .dataframe tbody tr th:only-of-type {\n",
              "        vertical-align: middle;\n",
              "    }\n",
              "\n",
              "    .dataframe tbody tr th {\n",
              "        vertical-align: top;\n",
              "    }\n",
              "\n",
              "    .dataframe thead th {\n",
              "        text-align: right;\n",
              "    }\n",
              "</style>\n",
              "<table border=\"1\" class=\"dataframe\">\n",
              "  <thead>\n",
              "    <tr style=\"text-align: right;\">\n",
              "      <th></th>\n",
              "      <th>Country</th>\n",
              "      <th>Region</th>\n",
              "      <th>Population</th>\n",
              "      <th>Under15</th>\n",
              "      <th>Over60</th>\n",
              "      <th>FertilityRate</th>\n",
              "      <th>LifeExpectancy</th>\n",
              "      <th>ChildMortality</th>\n",
              "      <th>CellularSubscribers</th>\n",
              "      <th>LiteracyRate</th>\n",
              "      <th>GNI</th>\n",
              "      <th>PrimarySchoolEnrollmentMale</th>\n",
              "      <th>PrimarySchoolEnrollmentFemale</th>\n",
              "    </tr>\n",
              "  </thead>\n",
              "  <tbody>\n",
              "    <tr>\n",
              "      <th>85</th>\n",
              "      <td>Japan</td>\n",
              "      <td>Western Pacific</td>\n",
              "      <td>127000</td>\n",
              "      <td>13.12</td>\n",
              "      <td>31.92</td>\n",
              "      <td>1.39</td>\n",
              "      <td>83</td>\n",
              "      <td>3.0</td>\n",
              "      <td>104.95</td>\n",
              "      <td>NaN</td>\n",
              "      <td>35330.0</td>\n",
              "      <td>NaN</td>\n",
              "      <td>NaN</td>\n",
              "    </tr>\n",
              "  </tbody>\n",
              "</table>\n",
              "</div>\n",
              "      <button class=\"colab-df-convert\" onclick=\"convertToInteractive('df-32dc4a05-c7ca-4953-8ab8-8a4d6af62d63')\"\n",
              "              title=\"Convert this dataframe to an interactive table.\"\n",
              "              style=\"display:none;\">\n",
              "        \n",
              "  <svg xmlns=\"http://www.w3.org/2000/svg\" height=\"24px\"viewBox=\"0 0 24 24\"\n",
              "       width=\"24px\">\n",
              "    <path d=\"M0 0h24v24H0V0z\" fill=\"none\"/>\n",
              "    <path d=\"M18.56 5.44l.94 2.06.94-2.06 2.06-.94-2.06-.94-.94-2.06-.94 2.06-2.06.94zm-11 1L8.5 8.5l.94-2.06 2.06-.94-2.06-.94L8.5 2.5l-.94 2.06-2.06.94zm10 10l.94 2.06.94-2.06 2.06-.94-2.06-.94-.94-2.06-.94 2.06-2.06.94z\"/><path d=\"M17.41 7.96l-1.37-1.37c-.4-.4-.92-.59-1.43-.59-.52 0-1.04.2-1.43.59L10.3 9.45l-7.72 7.72c-.78.78-.78 2.05 0 2.83L4 21.41c.39.39.9.59 1.41.59.51 0 1.02-.2 1.41-.59l7.78-7.78 2.81-2.81c.8-.78.8-2.07 0-2.86zM5.41 20L4 18.59l7.72-7.72 1.47 1.35L5.41 20z\"/>\n",
              "  </svg>\n",
              "      </button>\n",
              "      \n",
              "  <style>\n",
              "    .colab-df-container {\n",
              "      display:flex;\n",
              "      flex-wrap:wrap;\n",
              "      gap: 12px;\n",
              "    }\n",
              "\n",
              "    .colab-df-convert {\n",
              "      background-color: #E8F0FE;\n",
              "      border: none;\n",
              "      border-radius: 50%;\n",
              "      cursor: pointer;\n",
              "      display: none;\n",
              "      fill: #1967D2;\n",
              "      height: 32px;\n",
              "      padding: 0 0 0 0;\n",
              "      width: 32px;\n",
              "    }\n",
              "\n",
              "    .colab-df-convert:hover {\n",
              "      background-color: #E2EBFA;\n",
              "      box-shadow: 0px 1px 2px rgba(60, 64, 67, 0.3), 0px 1px 3px 1px rgba(60, 64, 67, 0.15);\n",
              "      fill: #174EA6;\n",
              "    }\n",
              "\n",
              "    [theme=dark] .colab-df-convert {\n",
              "      background-color: #3B4455;\n",
              "      fill: #D2E3FC;\n",
              "    }\n",
              "\n",
              "    [theme=dark] .colab-df-convert:hover {\n",
              "      background-color: #434B5C;\n",
              "      box-shadow: 0px 1px 3px 1px rgba(0, 0, 0, 0.15);\n",
              "      filter: drop-shadow(0px 1px 2px rgba(0, 0, 0, 0.3));\n",
              "      fill: #FFFFFF;\n",
              "    }\n",
              "  </style>\n",
              "\n",
              "      <script>\n",
              "        const buttonEl =\n",
              "          document.querySelector('#df-32dc4a05-c7ca-4953-8ab8-8a4d6af62d63 button.colab-df-convert');\n",
              "        buttonEl.style.display =\n",
              "          google.colab.kernel.accessAllowed ? 'block' : 'none';\n",
              "\n",
              "        async function convertToInteractive(key) {\n",
              "          const element = document.querySelector('#df-32dc4a05-c7ca-4953-8ab8-8a4d6af62d63');\n",
              "          const dataTable =\n",
              "            await google.colab.kernel.invokeFunction('convertToInteractive',\n",
              "                                                     [key], {});\n",
              "          if (!dataTable) return;\n",
              "\n",
              "          const docLinkHtml = 'Like what you see? Visit the ' +\n",
              "            '<a target=\"_blank\" href=https://colab.research.google.com/notebooks/data_table.ipynb>data table notebook</a>'\n",
              "            + ' to learn more about interactive tables.';\n",
              "          element.innerHTML = '';\n",
              "          dataTable['output_type'] = 'display_data';\n",
              "          await google.colab.output.renderOutput(dataTable, element);\n",
              "          const docLink = document.createElement('div');\n",
              "          docLink.innerHTML = docLinkHtml;\n",
              "          element.appendChild(docLink);\n",
              "        }\n",
              "      </script>\n",
              "    </div>\n",
              "  </div>\n",
              "  "
            ]
          },
          "metadata": {},
          "execution_count": 14
        }
      ]
    },
    {
      "cell_type": "code",
      "source": [
        "highest_population = df.Under15.max()\n",
        "df[df['Under15'] == highest_population]"
      ],
      "metadata": {
        "colab": {
          "base_uri": "https://localhost:8080/",
          "height": 145
        },
        "id": "UucROrB1wYnr",
        "outputId": "e78fdf40-6103-45c8-c8e3-473d0ae6cec7"
      },
      "execution_count": 13,
      "outputs": [
        {
          "output_type": "execute_result",
          "data": {
            "text/plain": [
              "    Country  Region  Population  Under15  Over60  FertilityRate  \\\n",
              "123   Niger  Africa       17157    49.99    4.26           7.58   \n",
              "\n",
              "     LifeExpectancy  ChildMortality  CellularSubscribers  LiteracyRate    GNI  \\\n",
              "123              56           113.5                29.52           NaN  720.0   \n",
              "\n",
              "     PrimarySchoolEnrollmentMale  PrimarySchoolEnrollmentFemale  \n",
              "123                         64.2                           52.0  "
            ],
            "text/html": [
              "\n",
              "  <div id=\"df-4e2d3665-790c-48f0-b694-0e38a6ea4fe4\">\n",
              "    <div class=\"colab-df-container\">\n",
              "      <div>\n",
              "<style scoped>\n",
              "    .dataframe tbody tr th:only-of-type {\n",
              "        vertical-align: middle;\n",
              "    }\n",
              "\n",
              "    .dataframe tbody tr th {\n",
              "        vertical-align: top;\n",
              "    }\n",
              "\n",
              "    .dataframe thead th {\n",
              "        text-align: right;\n",
              "    }\n",
              "</style>\n",
              "<table border=\"1\" class=\"dataframe\">\n",
              "  <thead>\n",
              "    <tr style=\"text-align: right;\">\n",
              "      <th></th>\n",
              "      <th>Country</th>\n",
              "      <th>Region</th>\n",
              "      <th>Population</th>\n",
              "      <th>Under15</th>\n",
              "      <th>Over60</th>\n",
              "      <th>FertilityRate</th>\n",
              "      <th>LifeExpectancy</th>\n",
              "      <th>ChildMortality</th>\n",
              "      <th>CellularSubscribers</th>\n",
              "      <th>LiteracyRate</th>\n",
              "      <th>GNI</th>\n",
              "      <th>PrimarySchoolEnrollmentMale</th>\n",
              "      <th>PrimarySchoolEnrollmentFemale</th>\n",
              "    </tr>\n",
              "  </thead>\n",
              "  <tbody>\n",
              "    <tr>\n",
              "      <th>123</th>\n",
              "      <td>Niger</td>\n",
              "      <td>Africa</td>\n",
              "      <td>17157</td>\n",
              "      <td>49.99</td>\n",
              "      <td>4.26</td>\n",
              "      <td>7.58</td>\n",
              "      <td>56</td>\n",
              "      <td>113.5</td>\n",
              "      <td>29.52</td>\n",
              "      <td>NaN</td>\n",
              "      <td>720.0</td>\n",
              "      <td>64.2</td>\n",
              "      <td>52.0</td>\n",
              "    </tr>\n",
              "  </tbody>\n",
              "</table>\n",
              "</div>\n",
              "      <button class=\"colab-df-convert\" onclick=\"convertToInteractive('df-4e2d3665-790c-48f0-b694-0e38a6ea4fe4')\"\n",
              "              title=\"Convert this dataframe to an interactive table.\"\n",
              "              style=\"display:none;\">\n",
              "        \n",
              "  <svg xmlns=\"http://www.w3.org/2000/svg\" height=\"24px\"viewBox=\"0 0 24 24\"\n",
              "       width=\"24px\">\n",
              "    <path d=\"M0 0h24v24H0V0z\" fill=\"none\"/>\n",
              "    <path d=\"M18.56 5.44l.94 2.06.94-2.06 2.06-.94-2.06-.94-.94-2.06-.94 2.06-2.06.94zm-11 1L8.5 8.5l.94-2.06 2.06-.94-2.06-.94L8.5 2.5l-.94 2.06-2.06.94zm10 10l.94 2.06.94-2.06 2.06-.94-2.06-.94-.94-2.06-.94 2.06-2.06.94z\"/><path d=\"M17.41 7.96l-1.37-1.37c-.4-.4-.92-.59-1.43-.59-.52 0-1.04.2-1.43.59L10.3 9.45l-7.72 7.72c-.78.78-.78 2.05 0 2.83L4 21.41c.39.39.9.59 1.41.59.51 0 1.02-.2 1.41-.59l7.78-7.78 2.81-2.81c.8-.78.8-2.07 0-2.86zM5.41 20L4 18.59l7.72-7.72 1.47 1.35L5.41 20z\"/>\n",
              "  </svg>\n",
              "      </button>\n",
              "      \n",
              "  <style>\n",
              "    .colab-df-container {\n",
              "      display:flex;\n",
              "      flex-wrap:wrap;\n",
              "      gap: 12px;\n",
              "    }\n",
              "\n",
              "    .colab-df-convert {\n",
              "      background-color: #E8F0FE;\n",
              "      border: none;\n",
              "      border-radius: 50%;\n",
              "      cursor: pointer;\n",
              "      display: none;\n",
              "      fill: #1967D2;\n",
              "      height: 32px;\n",
              "      padding: 0 0 0 0;\n",
              "      width: 32px;\n",
              "    }\n",
              "\n",
              "    .colab-df-convert:hover {\n",
              "      background-color: #E2EBFA;\n",
              "      box-shadow: 0px 1px 2px rgba(60, 64, 67, 0.3), 0px 1px 3px 1px rgba(60, 64, 67, 0.15);\n",
              "      fill: #174EA6;\n",
              "    }\n",
              "\n",
              "    [theme=dark] .colab-df-convert {\n",
              "      background-color: #3B4455;\n",
              "      fill: #D2E3FC;\n",
              "    }\n",
              "\n",
              "    [theme=dark] .colab-df-convert:hover {\n",
              "      background-color: #434B5C;\n",
              "      box-shadow: 0px 1px 3px 1px rgba(0, 0, 0, 0.15);\n",
              "      filter: drop-shadow(0px 1px 2px rgba(0, 0, 0, 0.3));\n",
              "      fill: #FFFFFF;\n",
              "    }\n",
              "  </style>\n",
              "\n",
              "      <script>\n",
              "        const buttonEl =\n",
              "          document.querySelector('#df-4e2d3665-790c-48f0-b694-0e38a6ea4fe4 button.colab-df-convert');\n",
              "        buttonEl.style.display =\n",
              "          google.colab.kernel.accessAllowed ? 'block' : 'none';\n",
              "\n",
              "        async function convertToInteractive(key) {\n",
              "          const element = document.querySelector('#df-4e2d3665-790c-48f0-b694-0e38a6ea4fe4');\n",
              "          const dataTable =\n",
              "            await google.colab.kernel.invokeFunction('convertToInteractive',\n",
              "                                                     [key], {});\n",
              "          if (!dataTable) return;\n",
              "\n",
              "          const docLinkHtml = 'Like what you see? Visit the ' +\n",
              "            '<a target=\"_blank\" href=https://colab.research.google.com/notebooks/data_table.ipynb>data table notebook</a>'\n",
              "            + ' to learn more about interactive tables.';\n",
              "          element.innerHTML = '';\n",
              "          dataTable['output_type'] = 'display_data';\n",
              "          await google.colab.output.renderOutput(dataTable, element);\n",
              "          const docLink = document.createElement('div');\n",
              "          docLink.innerHTML = docLinkHtml;\n",
              "          element.appendChild(docLink);\n",
              "        }\n",
              "      </script>\n",
              "    </div>\n",
              "  </div>\n",
              "  "
            ]
          },
          "metadata": {},
          "execution_count": 13
        }
      ]
    },
    {
      "cell_type": "markdown",
      "source": [
        "As we can see, the highest population of a country's Under 15s is 49.99% and the lowest is 13.12%. Niger has the highest percentage of Under 15s and Japan has the lowest percentage."
      ],
      "metadata": {
        "id": "FekzpnPIxMgs"
      }
    },
    {
      "cell_type": "markdown",
      "source": [
        "**4. Which region has the highest % of their population over 60?**"
      ],
      "metadata": {
        "id": "tqMrJ6lmxyBg"
      }
    },
    {
      "cell_type": "code",
      "source": [
        "plt.bar(df.Region, df.Over60)\n",
        "plt.ylabel('Over60 percentage')\n",
        "plt.show()"
      ],
      "metadata": {
        "colab": {
          "base_uri": "https://localhost:8080/",
          "height": 265
        },
        "id": "fjajcm6uyGnr",
        "outputId": "dfec54b0-389c-453f-f8f5-9eed5d7a525c"
      },
      "execution_count": 15,
      "outputs": [
        {
          "output_type": "display_data",
          "data": {
            "text/plain": [
              "<Figure size 432x288 with 1 Axes>"
            ],
            "image/png": "[encoded data removed]"
          },
          "metadata": {
            "needs_background": "light"
          }
        }
      ]
    },
    {
      "cell_type": "markdown",
      "source": [
        "As we can see in the bar graph above, the region with the highest Over60 percentage is the Western Pacific"
      ],
      "metadata": {
        "id": "NMnfJALRy8vI"
      }
    },
    {
      "cell_type": "markdown",
      "source": [
        "**5. Does fertility decrease as income increases? Are there any countries that don’t seem to follow this relation?**"
      ],
      "metadata": {
        "id": "Ih5J4murzxFG"
      }
    },
    {
      "cell_type": "code",
      "source": [
        "plt.scatter(df.FertilityRate,df.GNI)\n",
        "plt.xlabel('Fertility Rate')\n",
        "plt.ylabel('Gross National Income')\n",
        "plt.show()"
      ],
      "metadata": {
        "colab": {
          "base_uri": "https://localhost:8080/",
          "height": 279
        },
        "id": "VDHZ-HqY0NWQ",
        "outputId": "b0954a1e-59b7-48d4-9903-f6c998b3d599"
      },
      "execution_count": 16,
      "outputs": [
        {
          "output_type": "display_data",
          "data": {
            "text/plain": [
              "<Figure size 432x288 with 1 Axes>"
            ],
            "image/png": "[encoded data removed]"
          },
          "metadata": {
            "needs_background": "light"
          }
        }
      ]
    },
    {
      "cell_type": "markdown",
      "source": [
        "Yes,fertility does decrease as income increases, but the reverse is also true. When fertility increases, income decreases. There is no country where both the fertility and income is high."
      ],
      "metadata": {
        "id": "KwiB7NC30rM8"
      }
    },
    {
      "cell_type": "code",
      "source": [
        "df2['GNI'].corr(df2['FertilityRate'])"
      ],
      "metadata": {
        "colab": {
          "base_uri": "https://localhost:8080/"
        },
        "id": "cpjDFMio4RaZ",
        "outputId": "ce7e19ce-055a-4b8b-8dfd-2342f36974de"
      },
      "execution_count": 20,
      "outputs": [
        {
          "output_type": "execute_result",
          "data": {
            "text/plain": [
              "-0.5152729295055448"
            ]
          },
          "metadata": {},
          "execution_count": 20
        }
      ]
    },
    {
      "cell_type": "markdown",
      "source": [
        "Additionally the question basically asked about the relation between FertilityRate and the GNI. So I had to calculate the correlation coefficient between the two. The value of the correlation is -0.515 . Mathematically this is a strong correlation, meaning the relation of the two(Fertility and GNI) is negative. Simply put, when fertility increases, the GNI decreases."
      ],
      "metadata": {
        "id": "3hwLj8KM5GN_"
      }
    },
    {
      "cell_type": "markdown",
      "source": [
        "**6. Which regions have the lowest literacy rates?**"
      ],
      "metadata": {
        "id": "Pgi2aPWJ7r6u"
      }
    },
    {
      "cell_type": "code",
      "source": [
        "\n",
        "plt.barh(df.Region, df.LiteracyRate)\n",
        "plt.xlabel('Literacy Rate')\n",
        "plt.show()"
      ],
      "metadata": {
        "colab": {
          "base_uri": "https://localhost:8080/",
          "height": 279
        },
        "id": "p_S5twr97w0O",
        "outputId": "f13045cd-9b1f-4bdd-d847-092bf290d4dd"
      },
      "execution_count": 32,
      "outputs": [
        {
          "output_type": "display_data",
          "data": {
            "text/plain": [
              "<Figure size 432x288 with 1 Axes>"
            ],
            "image/png": "[encoded data removed]"
          },
          "metadata": {
            "needs_background": "light"
          }
        }
      ]
    },
    {
      "cell_type": "markdown",
      "source": [
        "South-East Asia has the lowest Literacy Rate followed by Africa"
      ],
      "metadata": {
        "id": "K0NDPFugCiaq"
      }
    },
    {
      "cell_type": "markdown",
      "source": [
        "**7. Which regions have the lowest child mortality rates?**"
      ],
      "metadata": {
        "id": "1KTAcm4DC4IY"
      }
    },
    {
      "cell_type": "code",
      "source": [
        "plt.barh(df.Region, df.ChildMortality)\n",
        "plt.xlabel('Child Mortality Rate')\n",
        "plt.show()"
      ],
      "metadata": {
        "colab": {
          "base_uri": "https://localhost:8080/",
          "height": 279
        },
        "id": "zEe4tbopC_g9",
        "outputId": "ec50ffbd-a2b5-494d-f73f-f29c62590c25"
      },
      "execution_count": 33,
      "outputs": [
        {
          "output_type": "display_data",
          "data": {
            "text/plain": [
              "<Figure size 432x288 with 1 Axes>"
            ],
            "image/png": "[encoded data removed]"
          },
          "metadata": {
            "needs_background": "light"
          }
        }
      ]
    },
    {
      "cell_type": "markdown",
      "source": [
        "Europe and South-East Asia have the lowest child mortality rates."
      ],
      "metadata": {
        "id": "pGQ__D0RDvKT"
      }
    },
    {
      "cell_type": "markdown",
      "source": [
        "**8. What is the life expectancy across different regions? Create a box-and-whisker plot to investigate this. What can we conclude about life expectancy across different regions?**"
      ],
      "metadata": {
        "id": "BwlOP7aSD6ZE"
      }
    },
    {
      "cell_type": "code",
      "source": [
        "import seaborn as sns\n",
        "import matplotlib.pyplot as plt\n",
        "plotbox = sns.catplot(x= \"Region\", size= 8, y= \"LifeExpectancy\", data = df, kind=\"box\")\n",
        "plt.show()"
      ],
      "metadata": {
        "colab": {
          "base_uri": "https://localhost:8080/",
          "height": 640
        },
        "id": "apG0KxBtECN0",
        "outputId": "4b9c5150-ef85-41da-832f-dd4558937bb7"
      },
      "execution_count": 36,
      "outputs": [
        {
          "output_type": "stream",
          "name": "stderr",
          "text": [
            "/usr/local/lib/python3.7/dist-packages/seaborn/categorical.py:3750: UserWarning: The `size` parameter has been renamed to `height`; please update your code.\n",
            "  warnings.warn(msg, UserWarning)\n"
          ]
        },
        {
          "output_type": "display_data",
          "data": {
            "text/plain": [
              "<Figure size 576x576 with 1 Axes>"
            ],
            "image/png": "[encoded data removed]"
          },
          "metadata": {
            "needs_background": "light"
          }
        }
      ]
    },
    {
      "cell_type": "markdown",
      "source": [
        "From the box and whisker above on can conclude that Africa has the lowest life expectancy amoungst all the different regions and Europe has the highest expectancy. Africa's maximum life expectancy does not even reach Europes first quarter of life expectancy. America has the highest minimum life expectancy, but not the highest maximum life expectancy. Generally, if a region has a low minimum life expectancy it will also have a low maximum life expectancy, and the same goes for maximum life expectancy. The only exception to this is the Eastern Mediterranean as it has the second lowest minimum life expectancy, yet one of the highest maximum life expectancy value."
      ],
      "metadata": {
        "id": "i1KOQUOWHlmr"
      }
    },
    {
      "cell_type": "markdown",
      "source": [
        "**9.How is life expectancy related to wealth across different regions? How is wealth related to fertility across different regions? Do these relationships hold for African countries?**"
      ],
      "metadata": {
        "id": "9JU12L6MLGzo"
      }
    },
    {
      "cell_type": "code",
      "source": [
        "plt.scatter(df.LifeExpectancy,df.GNI)\n",
        "plt.xlabel('Life Expectancy')\n",
        "plt.ylabel('Gross National Income')\n",
        "plt.show()"
      ],
      "metadata": {
        "colab": {
          "base_uri": "https://localhost:8080/",
          "height": 279
        },
        "id": "lXJMJPF7LSCk",
        "outputId": "4c072331-4196-4383-b72a-ac6170c5af5f"
      },
      "execution_count": 37,
      "outputs": [
        {
          "output_type": "display_data",
          "data": {
            "text/plain": [
              "<Figure size 432x288 with 1 Axes>"
            ],
            "image/png": "[encoded data removed]"
          },
          "metadata": {
            "needs_background": "light"
          }
        }
      ]
    },
    {
      "cell_type": "markdown",
      "source": [
        "How is life expectancy related to wealth across different regions?\n",
        "\n",
        "Life expectancy increases as the Gross National Income increases,the two go hand in hand, so when the GNI decreases the Life Expectancy decreases."
      ],
      "metadata": {
        "id": "ljBASn9-Njg1"
      }
    },
    {
      "cell_type": "markdown",
      "source": [
        "How is wealth related to fertility across different regions?"
      ],
      "metadata": {
        "id": "col0apxYOk9y"
      }
    },
    {
      "cell_type": "code",
      "source": [
        "plt.scatter(df.FertilityRate,df.GNI)\n",
        "plt.xlabel('Fertility Rate')\n",
        "plt.ylabel('Gross National Income')\n",
        "plt.show()"
      ],
      "metadata": {
        "colab": {
          "base_uri": "https://localhost:8080/",
          "height": 279
        },
        "id": "sKnNsPDKOzfk",
        "outputId": "e8917970-6879-4c0d-9bfb-4055b8e68b75"
      },
      "execution_count": 38,
      "outputs": [
        {
          "output_type": "display_data",
          "data": {
            "text/plain": [
              "<Figure size 432x288 with 1 Axes>"
            ],
            "image/png": "[encoded data removed]"
          },
          "metadata": {
            "needs_background": "light"
          }
        }
      ]
    },
    {
      "cell_type": "markdown",
      "source": [
        "The above scatter plot shows an inverse relationship between the fertility rate and wealth(GNI). The higher the fertility rate, the lower the wealth, and the inverse is true. The higher the wealth, the lower the fertility rate."
      ],
      "metadata": {
        "id": "z5_p8MR5PzpY"
      }
    },
    {
      "cell_type": "markdown",
      "source": [
        "Do these relationships hold for African countries?"
      ],
      "metadata": {
        "id": "ejUG1VfJQgAw"
      }
    },
    {
      "cell_type": "code",
      "source": [
        "df_mean = df.fillna(value = df.mean())\n",
        "Africa = df_mean[df_mean['Region'] == 'Africa']\n",
        "Africa['LifeExpectancy'].corr(Africa['GNI'])"
      ],
      "metadata": {
        "colab": {
          "base_uri": "https://localhost:8080/"
        },
        "id": "MNtquDFBQre9",
        "outputId": "c9d4b148-6e07-4da7-de77-b8ba69090901"
      },
      "execution_count": 39,
      "outputs": [
        {
          "output_type": "stream",
          "name": "stderr",
          "text": [
            "/usr/local/lib/python3.7/dist-packages/ipykernel_launcher.py:1: FutureWarning: Dropping of nuisance columns in DataFrame reductions (with 'numeric_only=None') is deprecated; in a future version this will raise TypeError.  Select only valid columns before calling the reduction.\n",
            "  \"\"\"Entry point for launching an IPython kernel.\n"
          ]
        },
        {
          "output_type": "execute_result",
          "data": {
            "text/plain": [
              "0.40208144968663106"
            ]
          },
          "metadata": {},
          "execution_count": 39
        }
      ]
    },
    {
      "cell_type": "markdown",
      "source": [
        "The correlation coefficient between Life Expectancy and Wealth in Africa is 0.4 . Mathematically this is a weak relation between two. Meaning that wealth bares little to no impact in life expectancy."
      ],
      "metadata": {
        "id": "yKnQIlFcR6pW"
      }
    },
    {
      "cell_type": "code",
      "source": [
        "Africa['FertilityRate'].corr(Africa['GNI'])"
      ],
      "metadata": {
        "colab": {
          "base_uri": "https://localhost:8080/"
        },
        "id": "djzCEfvqTYCN",
        "outputId": "31cffae2-b59e-40fd-f6b6-72a5a3d7b93f"
      },
      "execution_count": 40,
      "outputs": [
        {
          "output_type": "execute_result",
          "data": {
            "text/plain": [
              "-0.5548900049712494"
            ]
          },
          "metadata": {},
          "execution_count": 40
        }
      ]
    },
    {
      "cell_type": "markdown",
      "source": [
        "This correlation coefficient shows the relationship between the fertility rate and wealth. Mathematically a coefficient of -0.5 is a strong negative coefficient. In simple terms, the two (Fertility Rate and GNI) go hand in hand."
      ],
      "metadata": {
        "id": "eDTTm91zWYpa"
      }
    },
    {
      "cell_type": "markdown",
      "source": [
        "**10. Create appropriate graphs to visually represent the relationship between literacy and life expectancy by region, and then for African countries. What can be concluded from the graphs? How confident can we be in the relationships represented here?**"
      ],
      "metadata": {
        "id": "R5zQ6eVGXWpY"
      }
    },
    {
      "cell_type": "code",
      "source": [
        "plt.scatter(df.LiteracyRate,df.LifeExpectancy)\n",
        "plt.xlabel('Literacy Rate')\n",
        "plt.ylabel('Life Expectancy')\n",
        "plt.show()"
      ],
      "metadata": {
        "colab": {
          "base_uri": "https://localhost:8080/",
          "height": 279
        },
        "id": "yca6AkiCXhG8",
        "outputId": "62522d82-80f2-4f9d-eb74-3f1e668f98e0"
      },
      "execution_count": 41,
      "outputs": [
        {
          "output_type": "display_data",
          "data": {
            "text/plain": [
              "<Figure size 432x288 with 1 Axes>"
            ],
            "image/png": "[encoded data removed]"
          },
          "metadata": {
            "needs_background": "light"
          }
        }
      ]
    },
    {
      "cell_type": "code",
      "source": [
        "import seaborn as sns\n",
        "Africa_df = df[df[\"Region\"] == \"Africa\"]\n",
        "LifeExpectancy_Africa = Africa_df.LifeExpectancy\n",
        "LiteracyRate_Africa = Africa_df.LiteracyRate\n",
        "sns.scatterplot(x = LifeExpectancy_Africa, y = LiteracyRate_Africa, data = Africa_df)\n",
        "plt.title(\"Life expectancy and Literacy, Relationship in Africa\",fontsize=15)\n",
        "plt.show()"
      ],
      "metadata": {
        "colab": {
          "base_uri": "https://localhost:8080/",
          "height": 532
        },
        "id": "c7tdFFYggVz7",
        "outputId": "deff8726-1c97-4b41-b3b5-ca9d85e22ff1"
      },
      "execution_count": 48,
      "outputs": [
        {
          "output_type": "display_data",
          "data": {
            "text/plain": [
              "<Figure size 1080x720 with 1 Axes>"
            ],
            "image/png": "[encoded data removed]"
          },
          "metadata": {
            "needs_background": "light"
          }
        }
      ]
    },
    {
      "cell_type": "markdown",
      "source": [
        "From the graphs above we can conclude that there is a high correlation between Life Expectancy and Literacy in all the regions, including Africa. This means that the greater the literacy rate, the greater the life expectancy."
      ],
      "metadata": {
        "id": "3M_rhQj3itaS"
      }
    },
    {
      "cell_type": "markdown",
      "source": [
        "We can be confident in our relationships here, as we were working with a large data set. The larger the data set, the more accurate and precise the calculations are."
      ],
      "metadata": {
        "id": "kh1AO8Hej_TA"
      }
    }
  ]
}